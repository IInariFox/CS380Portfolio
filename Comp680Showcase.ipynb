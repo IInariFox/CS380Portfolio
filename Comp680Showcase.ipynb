{
 "cells": [
  {
   "cell_type": "code",
   "execution_count": 26,
   "id": "6e3608f8",
   "metadata": {},
   "outputs": [],
   "source": [
    "import numpy as np\n",
    "import pandas as pd\n",
    "import scipy.stats as stats\n",
    "import matplotlib.pyplot as plt\n",
    "import math as math"
   ]
  },
  {
   "cell_type": "markdown",
   "id": "25f78269",
   "metadata": {},
   "source": [
    "#### Note: For the sake of academic integrity, I am not uploading the context for the examples below."
   ]
  },
  {
   "cell_type": "markdown",
   "id": "b4e7ab06",
   "metadata": {},
   "source": [
    "# Probability Theory and Statistics: Gamma Distribution"
   ]
  },
  {
   "cell_type": "code",
   "execution_count": 6,
   "id": "2ca2a869",
   "metadata": {},
   "outputs": [
    {
     "name": "stdout",
     "output_type": "stream",
     "text": [
      "The probability that it takes less than 15 minutes to reboot the system is 35.28%\n"
     ]
    }
   ],
   "source": [
    "def rounded_percent(x):\n",
    "    return round(x * 100, 2)\n",
    "\n",
    "k = 4\n",
    "theta = 5\n",
    "x = 15\n",
    "\n",
    "p = stats.gamma.cdf(x, k, scale=theta)\n",
    "ans = p\n",
    "res = rounded_percent(ans)\n",
    "print(f\"The probability that it takes less than 15 minutes to reboot the system is {res}%\")"
   ]
  },
  {
   "cell_type": "markdown",
   "id": "5b1c701d",
   "metadata": {},
   "source": [
    "# Probability Theory and Statistics: Exponential Distribution"
   ]
  },
  {
   "cell_type": "code",
   "execution_count": 10,
   "id": "c7fdd5b8",
   "metadata": {},
   "outputs": [
    {
     "name": "stdout",
     "output_type": "stream",
     "text": [
      "0.7534030360583935\n",
      "0.42764371923035677\n",
      "0.8646647167633873\n",
      "0.35353768522030193\n",
      "The probability that the parallel compile of [REDACTED] will take 7 minutes or less is 42.76%\n",
      "The probability that the parallel compile of [REDACTED] will take more than 10 minutes is 35.35%\n"
     ]
    }
   ],
   "source": [
    "l_param = 0.2\n",
    "mean = 5\n",
    "blocks = 3\n",
    "\n",
    "first_time = 7\n",
    "\n",
    "first_block_cdf = stats.expon.cdf(first_time, scale=1/l_param)\n",
    "print(first_block_cdf)\n",
    "\n",
    "first_block_cdf_atMax = first_block_cdf ** blocks\n",
    "print(first_block_cdf_atMax)\n",
    "\n",
    "second_time = 10\n",
    "\n",
    "second_block_cdf = stats.expon.cdf(second_time, scale=1/l_param)\n",
    "print(second_block_cdf)\n",
    "\n",
    "second_block_cdf_atMax = second_block_cdf ** blocks\n",
    "\n",
    "prob_more_ten = 1 - second_block_cdf_atMax \n",
    "print(prob_more_ten)\n",
    "\n",
    "first_res = rounded_percent(first_block_cdf_atMax)\n",
    "second_res = rounded_percent(prob_more_ten)\n",
    "print(f\"The probability that the parallel compile of [REDACTED] will take 7 minutes or less is {first_res}%\")\n",
    "print(f\"The probability that the parallel compile of [REDACTED] will take more than 10 minutes is {second_res}%\")"
   ]
  },
  {
   "cell_type": "markdown",
   "id": "174356ea",
   "metadata": {},
   "source": [
    "# Probability Theory and Random Variable Generation: Transformation of a Random Uniform Variable"
   ]
  },
  {
   "cell_type": "code",
   "execution_count": 12,
   "id": "f4260691",
   "metadata": {},
   "outputs": [
    {
     "name": "stdout",
     "output_type": "stream",
     "text": [
      "Sample with lambda 2.5 is 1.0606496219830215\n",
      "0\n",
      "Binomial sample with n = 15 and p = 0.4 is 7.0\n",
      "Discrete sample: 0.0\n",
      "Continuous Sample: [0.884105]\n"
     ]
    }
   ],
   "source": [
    "lp = 2.5 # define param\n",
    "\n",
    "u = np.random.uniform(0, 1) # and then generate a random uniform variable\n",
    "\n",
    "exp_r_var = stats.expon(scale=1/lp).ppf(u) # with u defined, plug into new var to generate an exponential random var\n",
    "print(f\"Sample with lambda {lp} is {exp_r_var}\")\n",
    "\n",
    "def generate_bernoulli(p=0.77):\n",
    "    u = np.random.uniform(0, 1)  # generate a standard uniform random variable\n",
    "    return 1 if u < p else 0  # return 1 with probability p otherwise return 0\n",
    "bernoulli_sample = generate_bernoulli()\n",
    "print(bernoulli_sample)\n",
    "\n",
    "n = 15\n",
    "p = 0.4 \n",
    "\n",
    "u = np.random.uniform(0,1) # define u for rng\n",
    "\n",
    "bs = stats.binom(n, p).ppf(u) # using a binomial discrete random var to solve for its param n & p \n",
    "\n",
    "print(f\"Binomial sample with n = {n} and p = {p} is {bs}\")\n",
    "\n",
    "val = [0, 2, 7, 11]\n",
    "prob = [0.2, 0.4, 0.3, 0.1]\n",
    "\n",
    "dd = stats.rv_discrete(name='RNG', values=(val, prob)) # create discrete distribution\n",
    "\n",
    "u = np.random.uniform(0, 1) # generate a random uniform variable\n",
    "\n",
    "# generate a sample from dd\n",
    "ds = dd.ppf(u)\n",
    "print(f\"Discrete sample: {ds}\")\n",
    "\n",
    "def generate_continuous(f, a, b, num_samples): # generates random samples from a continuous distribution using the inverse transform method\n",
    "    u = np.random.uniform(size=num_samples)\n",
    "    return np.cbrt(u)  # inverse CDF of f(x) = 3x^2 = x = u^(1/3)\n",
    "# f is the PDF\n",
    "a = 0 # min lim\n",
    "b = 1 # max lim\n",
    "num_samples = 1\n",
    "continuous_sample = generate_continuous(lambda x: 3*x**2, a, b, num_samples)\n",
    "\n",
    "\n",
    "print(\"Continuous Sample:\", continuous_sample)"
   ]
  },
  {
   "cell_type": "markdown",
   "id": "100ef24a",
   "metadata": {},
   "source": [
    "# Simulation Methods: Monte Carlo Simulation"
   ]
  },
  {
   "cell_type": "code",
   "execution_count": 13,
   "id": "f7113926",
   "metadata": {},
   "outputs": [
    {
     "name": "stdout",
     "output_type": "stream",
     "text": [
      "Estimated probability P(x > y): 0.18555\n"
     ]
    }
   ],
   "source": [
    "# lambda params for poisson dist\n",
    "lx = 3\n",
    "ly = 5\n",
    "\n",
    "num_samples = 1000000 # simulation samples\n",
    "\n",
    "# generate samples from Poisson dist\n",
    "x_s = np.random.poisson(lx, num_samples)\n",
    "y_s = np.random.poisson(ly, num_samples)\n",
    "\n",
    "cnt_x_grtr_y = np.sum(x_s > y_s) # count the number of times x > y\n",
    "\n",
    "# estimate the probability\n",
    "p_x_grtr_y = cnt_x_grtr_y / num_samples\n",
    "\n",
    "print(f\"Estimated probability P(x > y): {p_x_grtr_y}\")"
   ]
  },
  {
   "cell_type": "markdown",
   "id": "22167694",
   "metadata": {},
   "source": [
    "# Simulation and Probobility Theory: Biased Random Process"
   ]
  },
  {
   "cell_type": "code",
   "execution_count": 14,
   "id": "c097da51",
   "metadata": {},
   "outputs": [
    {
     "name": "stdout",
     "output_type": "stream",
     "text": [
      "Biased coin flips: Heads = 7526, Tails = 2474\n",
      "Fair coin flips: Heads = 5015, Tails = 4985\n"
     ]
    }
   ],
   "source": [
    "def biased_flip(): # returns 3 quarter heads and quarter tails\n",
    "    return 'H' if np.random.uniform(0, 1) < 0.75 else 'T'\n",
    "\n",
    "# function to simulate a fair coin flip using multiple biased flips\n",
    "def fair_flip():\n",
    "    while True:\n",
    "        flips = [biased_flip() for _ in range(10)] # infinite loop that will continue running until it explicitly returns a value\n",
    "        heads_count = flips.count('H')\n",
    "        tails_count = flips.count('T')\n",
    "        if heads_count > tails_count:# if heads_count == tails_count try again to basically make sure we dont favor one over the other\n",
    "            return 'H' if np.random.uniform(0, 1) < 0.5 else 'T'\n",
    "        elif tails_count > heads_count:\n",
    "            return 'T' if np.random.uniform(0, 1) < 0.5 else 'H'\n",
    "        \n",
    "num_flips = 10000\n",
    "\n",
    "# simulate multiple biased coin flips and count the outcomes\n",
    "biased_flips = [biased_flip() for _ in range(num_flips)]\n",
    "heads_count = biased_flips.count('H')\n",
    "tails_count = biased_flips.count('T')\n",
    "\n",
    "# output the count of heads and tails\n",
    "print(f\"Biased coin flips: Heads = {heads_count}, Tails = {tails_count}\")\n",
    "\n",
    "# simulate a large number of fair coin flips and count the outcomes\n",
    "num_flips = 10000\n",
    "fair_flips = [fair_flip() for _ in range(num_flips)]\n",
    "heads_count = fair_flips.count('H')\n",
    "tails_count = fair_flips.count('T')\n",
    "\n",
    "print(f\"Fair coin flips: Heads = {heads_count}, Tails = {tails_count}\")"
   ]
  },
  {
   "cell_type": "markdown",
   "id": "246e8124",
   "metadata": {},
   "source": [
    "# Probability Theory and Random Variable Generation: Exponetial, Bernoulli, & Geometric Variables"
   ]
  },
  {
   "cell_type": "code",
   "execution_count": 15,
   "id": "78071eff",
   "metadata": {},
   "outputs": [
    {
     "name": "stdout",
     "output_type": "stream",
     "text": [
      "[18.13150795  3.92206671 19.8984079  ... 43.27804431 13.55624394\n",
      " 26.90050808]\n",
      "Bernoulli Samples: [0 1 0 0 0 0 0 0 0 0]\n",
      "Geometric Samples: [1 5 2 5 2 2 1 5 1 3]\n"
     ]
    }
   ],
   "source": [
    "def gen_exp(u, param=0.05):\n",
    "    return -np.log(1 - u) / param # apply the inverse CDF to get exponential random variables\n",
    "\n",
    "U = np.random.uniform(0, 1, 10000)\n",
    "samples = gen_exp(U, param=0.05)\n",
    "print(samples)\n",
    "\n",
    "def bernoulli(u, p=0.4): # an array of uniform random variables u and a param p\n",
    "    return (u < p).astype(int) # threshold comparison method to return random bernoulli var\n",
    "\n",
    "U = np.random.uniform(0, 1, 10000)\n",
    "bernoulli_samples = bernoulli(U, p=0.4)\n",
    "print(\"Bernoulli Samples:\", bernoulli_samples[:10])\n",
    "\n",
    "def geometric(u, p=0.4): # an array of uniform random var u w/param p\n",
    "    return np.ceil(np.log(1 - u) / np.log(1 - p)).astype(int) # inverse cdf formula to return geometric array\n",
    "\n",
    "U = np.random.uniform(0, 1, 10000)\n",
    "geometric_samples = geometric(U, p=0.4)\n",
    "print(\"Geometric Samples:\", geometric_samples[:10])"
   ]
  },
  {
   "cell_type": "markdown",
   "id": "e4960483",
   "metadata": {},
   "source": [
    "# Monte Carlo: Rejection Sampling"
   ]
  },
  {
   "cell_type": "code",
   "execution_count": 18,
   "id": "7435239b",
   "metadata": {},
   "outputs": [
    {
     "name": "stdout",
     "output_type": "stream",
     "text": [
      "[0.4143125432304906, -0.4815768569671901, 0.42276284062156533, -0.724462642649629, 0.9054235833718891, 0.610141929407136, -0.6251019998418084, 0.6437677651275182, 0.2830262119001017, -0.6990260725166944]\n",
      "x = -0.5224\n",
      "accept = 0.3928032906482901\n",
      "v = 0.7533\n",
      "Accepted?: False\n",
      "x = -0.5873999999999999\n",
      "accept =  0.371736499251516\n",
      "v = 0.8097\n",
      "Accepted?: False\n"
     ]
    }
   ],
   "source": [
    "def target(x):\n",
    "    return (2 / np.pi) * (1 / (1 + x**2))\n",
    "\n",
    "def proposal(x):\n",
    "    return 1 / 2  # uniform distribution over [-1, 1]\n",
    "\n",
    "def rejection_sampling(n_samples):\n",
    "    samples = []\n",
    "    M = 4 / np.pi\n",
    "    while len(samples) < n_samples:\n",
    "        u = np.random.uniform(0, 1)\n",
    "        if u <= target(x) / (M * proposal(x)):\n",
    "            samples.append(x)\n",
    "    return samples\n",
    "\n",
    "samples = rejection_sampling(1000)\n",
    "print(samples[:10]) \n",
    "\n",
    "u = 0.2388\n",
    "v = 0.7533\n",
    "\n",
    "x = 2 * u - 1 # calculation of x from u\n",
    "\n",
    "accept = 1 / (2 * (1 + x**2)) # acceptance prob\n",
    "\n",
    "accepted = v <= accept\n",
    "\n",
    "print(f\"x = {x}\")\n",
    "print(f\"accept = {accept}\")\n",
    "print(f\"v = {v}\")\n",
    "print(f\"Accepted?: {accepted}\")\n",
    "\n",
    "u = 0.2063\n",
    "v = 0.8097\n",
    "\n",
    "x = 2 * u - 1\n",
    "\n",
    "accept = 1 / (2 * (1 + x**2))\n",
    "\n",
    "accepted = v <= accept\n",
    "\n",
    "print(f\"x = {x}\")\n",
    "print(f\"accept = {accept: }\")\n",
    "print(f\"v = {v}\")\n",
    "print(f\"Accepted?: {accepted}\")"
   ]
  },
  {
   "cell_type": "markdown",
   "id": "bfc801c9",
   "metadata": {},
   "source": [
    "# Markov Chains: Transition Probability Matrix"
   ]
  },
  {
   "cell_type": "code",
   "execution_count": 19,
   "id": "db98824c",
   "metadata": {},
   "outputs": [
    {
     "name": "stdout",
     "output_type": "stream",
     "text": [
      "P^2:\n",
      "[[0.25 0.5  0.25]\n",
      " [0.   0.5  0.5 ]\n",
      " [0.   0.5  0.5 ]]\n",
      "P^3:\n",
      "[[0.125 0.5   0.375]\n",
      " [0.    0.5   0.5  ]\n",
      " [0.    0.5   0.5  ]]\n",
      "P^4:\n",
      "[[0.0625 0.5    0.4375]\n",
      " [0.     0.5    0.5   ]\n",
      " [0.     0.5    0.5   ]]\n",
      "Probability of nobody working in the lab at 10 am: 0.125\n"
     ]
    }
   ],
   "source": [
    "P = np.array([\n",
    "    [0.5, 0.5, 0],\n",
    "    [0, 0.5, 0.5],\n",
    "    [0, 0.5, 0.5]\n",
    "])\n",
    "\n",
    "P2 = np.linalg.matrix_power(P, 2)\n",
    "P3 = np.linalg.matrix_power(P, 3)\n",
    "P4 = np.linalg.matrix_power(P, 4)\n",
    "\n",
    "print(\"P^2:\")\n",
    "print(P2)\n",
    "print(\"P^3:\")\n",
    "print(P3)\n",
    "print(\"P^4:\")\n",
    "print(P4)\n",
    "\n",
    "initial_state = np.array([1, 0, 0]) # at 7 AM\n",
    "\n",
    "third_state = np.linalg.matrix_power(P, 3) @ initial_state # at 3 AM\n",
    "\n",
    "print(f\"Probability of nobody working in the lab at 10 am: {third_state[0]}\")"
   ]
  },
  {
   "cell_type": "markdown",
   "id": "ee5bb99b",
   "metadata": {},
   "source": [
    "# Rare Events Modeling: Poisson Processes"
   ]
  },
  {
   "cell_type": "code",
   "execution_count": 24,
   "id": "a1fe0a45",
   "metadata": {},
   "outputs": [
    {
     "name": "stdout",
     "output_type": "stream",
     "text": [
      "Probability that Mr. Z keeps his license for at least 10 years: 54%\n"
     ]
    }
   ],
   "source": [
    "lr = 1 / 4  # incidents per year\n",
    "t = 10  # years\n",
    "l_t = lr * t  # poisson parameter for 10 years\n",
    "\n",
    "P_0 = math.exp(-l_t) * (l_t**0) / math.factorial(0) \n",
    "P_1 = math.exp(-l_t) * (l_t**1) / math.factorial(1)\n",
    "P_2 = math.exp(-l_t) * (l_t**2) / math.factorial(2)\n",
    "\n",
    "probability = P_0 + P_1 + P_2\n",
    "\n",
    "total_probability = round(probability * 100)\n",
    "\n",
    "print(f\"Probability that Mr. Z keeps his license for at least 10 years: {total_probability:}%\")\n"
   ]
  },
  {
   "cell_type": "markdown",
   "id": "1083ba79",
   "metadata": {},
   "source": [
    "# Descriptive Statistics & Data Visualization (basic)"
   ]
  },
  {
   "cell_type": "code",
   "execution_count": 28,
   "id": "7254e9dd",
   "metadata": {},
   "outputs": [
    {
     "data": {
      "image/png": "[encoded data removed]",
      "text/plain": [
       "<Figure size 500x500 with 1 Axes>"
      ]
     },
     "metadata": {},
     "output_type": "display_data"
    },
    {
     "name": "stdout",
     "output_type": "stream",
     "text": [
      "The population trend over time in the US is an exponential growth\n",
      "The mean of 10-year pop increment is 13.854545454545455\n",
      "The median increment is: 13.0\n",
      "The variance increment is: 87.60354978354978\n"
     ]
    },
    {
     "data": {
      "image/png": "[encoded data removed]",
      "text/plain": [
       "<Figure size 500x500 with 1 Axes>"
      ]
     },
     "metadata": {},
     "output_type": "display_data"
    },
    {
     "name": "stdout",
     "output_type": "stream",
     "text": [
      "Following RPC formula, get % 1     35.897436\n",
      "2     35.849057\n",
      "3     33.333333\n",
      "4     34.375000\n",
      "5     32.558140\n",
      "6     35.672515\n",
      "7     35.344828\n",
      "8     22.929936\n",
      "9     30.051813\n",
      "10    25.498008\n",
      "11    20.952381\n",
      "12    20.997375\n",
      "13    14.967462\n",
      "14    16.226415\n",
      "15     7.305195\n",
      "16    14.447806\n",
      "17    18.506279\n",
      "18    13.385388\n",
      "19    11.411707\n",
      "20     9.801325\n",
      "21    13.148372\n",
      "22     9.701493\n",
      "Name: Population, dtype: float64 per increment\n",
      "Mean of relative pop change is 22.380057356285803\n",
      "Median of relative pop change is 20.974878140232473\n",
      "Variance of relative pop change is 102.50379905134977\n"
     ]
    },
    {
     "data": {
      "image/png": "[encoded data removed]",
      "text/plain": [
       "<Figure size 500x500 with 1 Axes>"
      ]
     },
     "metadata": {},
     "output_type": "display_data"
    },
    {
     "name": "stdout",
     "output_type": "stream",
     "text": [
      "As the population increases, the average increment gets smnaller and smaller, and as time passes\n"
     ]
    }
   ],
   "source": [
    "data = [[1790, 1800, 1810, 1820, 1830, 1840, 1850, 1860, 1870, 1880, 1890, 1900, 1910, 1920, 1930, 1940, 1950, 1960, 1970, 1980, 1990, 2000, 2010],\n",
    "        [3.9, 5.3, 7.2, 9.6, 12.9, 17.1, 23.2, 31.4, 38.6, 50.2, 63.0, 76.2, 92.2, 106.0, 123.2, 132.2, 151.3, 179.3, 203.3, 226.5, 248.7, 281.4, 308.7]\n",
    "]\n",
    "height_df = pd.DataFrame({\n",
    "    \"Time\": data[0],\n",
    "    \"Population\": data[1]\n",
    "})\n",
    "plt.figure(figsize=(5, 5)) \n",
    "plt.plot(height_df[\"Time\"], height_df[\"Population\"], marker='o', linestyle='-', markersize=6)\n",
    "plt.xlabel('year') \n",
    "plt.ylabel('Population per mil') \n",
    "plt.title('Pop Over Time') \n",
    "plt.grid(True) \n",
    "plt.show()\n",
    "plt.close()\n",
    "print(\"The population trend over time in the US is an exponential growth\")\n",
    "\n",
    "population_increments = height_df[\"Population\"].diff().dropna()\n",
    "print(f\"The mean of 10-year pop increment is {population_increments.mean()}\")\n",
    "print(f\"The median increment is: {population_increments.median()}\")\n",
    "print(f\"The variance increment is: {population_increments.var()}\")\n",
    "\n",
    "plt.figure(figsize=(5, 5))\n",
    "plt.plot(height_df['Time'][1:], population_increments, marker='o', linestyle='-')\n",
    "plt.xlabel('Year')\n",
    "plt.ylabel('Population Increment (mil)')\n",
    "plt.title('10 year pop increm')\n",
    "plt.grid(True)\n",
    "plt.show()\n",
    "\n",
    "rel_pop_change = population_increments / (height_df[\"Population\"].shift(1).dropna()) * 100\n",
    "print(f\"Following RPC formula, get % {rel_pop_change} per increment\")\n",
    "\n",
    "print(f\"Mean of relative pop change is {rel_pop_change.mean()}\")\n",
    "print(f\"Median of relative pop change is {rel_pop_change.median()}\")\n",
    "print(f\"Variance of relative pop change is {rel_pop_change.var()}\")\n",
    "\n",
    "plt.figure(figsize=(5,5))\n",
    "plt.plot(height_df[\"Time\"][1:], rel_pop_change, marker='o', linestyle='-')\n",
    "plt.xlabel(\"Time\")\n",
    "plt.ylabel(\"Population %\")\n",
    "plt.title(\"Relative Pop Change\")\n",
    "plt.grid(True)\n",
    "plt.show()\n",
    "plt.close()\n",
    "print(\"As the population increases, the average increment gets smnaller and smaller, and as time passes\")\n"
   ]
  },
  {
   "cell_type": "markdown",
   "id": "0dff2ae8",
   "metadata": {},
   "source": [
    "# Descriptive Statistics: Impact of Outliers"
   ]
  },
  {
   "cell_type": "code",
   "execution_count": 30,
   "id": "84d0f8d0",
   "metadata": {},
   "outputs": [
    {
     "name": "stdout",
     "output_type": "stream",
     "text": [
      "Mean: 49.6\n",
      "Median: 47.5\n",
      "Quantiles:\n",
      "0.25    43.50\n",
      "0.50    47.50\n",
      "0.75    51.75\n",
      "Name: computer, dtype: float64\n",
      "Standard Deviation: 23.476702399518455\n",
      "Outliers: [105, 10]\n",
      "Mean without outliers: 47.625\n",
      "Median without outliers: 47.5\n",
      "Quartiles without outliers: \n",
      "0.25    44.50\n",
      "0.50    47.50\n",
      "0.75    51.25\n",
      "Name: computer, dtype: float64\n",
      "Standard Deviation without outliers: 6.4572771793867245\n",
      "\n",
      "Conclusion:\n",
      "Outliers will affect descriptive statistics. The presence of outliers generally inflates the mean and the standard deviation while having a lesser impact on the median and quartiles.\n"
     ]
    }
   ],
   "source": [
    "comp_list = [43, 37, 50, 51, 58, 105, 52, 45, 45, 10]\n",
    "df = pd.DataFrame(comp_list, columns=[\"computer\"])\n",
    "print(f\"Mean: {df['computer'].mean()}\")\n",
    "print(f\"Median: {df['computer'].median()}\")\n",
    "print(f\"Quantiles:\\n\"\n",
    "      f\"{df['computer'].quantile([0.25, 0.50, 0.75])}\")\n",
    "print(f\"Standard Deviation: {df['computer'].std()}\")\n",
    "\n",
    "quartiles = df[\"computer\"].quantile([0.25, 0.50, 0.75])\n",
    "Q1 = quartiles[0.25]\n",
    "Q3 = quartiles[0.75]\n",
    "iqr = stats.iqr(df[\"computer\"])\n",
    "\n",
    "lower = Q1 - 1.5 * iqr\n",
    "upper = Q3 + 1.5 * iqr\n",
    "outliers = df[(df['computer'] < lower) | (df['computer'] > upper)]\n",
    "print(f\"Outliers: {outliers['computer'].tolist()}\")\n",
    "\n",
    "df_no_outliers = df[(df['computer'] >= lower) & (df['computer'] <= upper)]\n",
    "mean_no_outliers = df_no_outliers['computer'].mean()\n",
    "median_no_outliers = df_no_outliers['computer'].median()\n",
    "quartiles_no_outliers = df_no_outliers['computer'].quantile([0.25, 0.5, 0.75])\n",
    "std_dev_no_outliers = df_no_outliers['computer'].std()\n",
    "\n",
    "print(f\"Mean without outliers: {mean_no_outliers}\")\n",
    "print(f\"Median without outliers: {median_no_outliers}\")\n",
    "print(f\"Quartiles without outliers: \\n\" f\"{quartiles_no_outliers}\")\n",
    "print(f\"Standard Deviation without outliers: {std_dev_no_outliers}\")\n",
    "\n",
    "print(\"\\nConclusion:\")\n",
    "print(\"Outliers will affect descriptive statistics. The presence of outliers generally inflates the mean and the standard deviation while having a lesser impact on the median and quartiles.\")"
   ]
  },
  {
   "cell_type": "markdown",
   "id": "2bf0fc3a",
   "metadata": {},
   "source": [
    "# Discrete Probability Distribution: Maximum Likelihood Estimator, Method of Moments, & Parameter Estimation"
   ]
  },
  {
   "cell_type": "code",
   "execution_count": 31,
   "id": "09d12491",
   "metadata": {},
   "outputs": [
    {
     "name": "stdout",
     "output_type": "stream",
     "text": [
      "The method of moments estimator: 0    0.625\n",
      "dtype: float64\n",
      "Maximum likelihood est: 0    0.625\n",
      "dtype: float64\n"
     ]
    }
   ],
   "source": [
    "sample = [3, 3, 3, 3, 3, 7, 7, 7]\n",
    "df = pd.DataFrame(sample)\n",
    "s_mean = df.mean()\n",
    "\n",
    "mme = (7 - s_mean) / 4\n",
    "print(f\"The method of moments estimator: {mme}\")\n",
    "\n",
    "p3 = np.sum(df == 3)\n",
    "p7 = np.sum(df == 7)\n",
    "mle = p3 / (p3 + p7)\n",
    "print(f\"Maximum likelihood est: {mle}\")"
   ]
  },
  {
   "cell_type": "markdown",
   "id": "7ac7b9a1",
   "metadata": {},
   "source": [
    "# Statistical Inference & Hypothesis Testing: Quality Control & Decision-Making"
   ]
  },
  {
   "cell_type": "code",
   "execution_count": 34,
   "id": "972f6a49",
   "metadata": {},
   "outputs": [
    {
     "name": "stdout",
     "output_type": "stream",
     "text": [
      "96% Confidence Interval: (0.07280844289046505, 0.16719155710953493)\n",
      "We do not have sufficient evidence at 4% significance level\n",
      "85% Confidence Interval: (0.086922085134124, 0.153077914865876)\n",
      "We do not have sufficient evidence to disprove claim at the 15% significance level\n"
     ]
    }
   ],
   "source": [
    "n = 200  \n",
    "x = 24  \n",
    "prop = x / n \n",
    "\n",
    "conf = 0.96\n",
    "alpha = 1 - conf\n",
    "z_2 = stats.norm.ppf(1 - alpha/2)\n",
    "\n",
    "moe = z_2 * np.sqrt((prop * (1 - prop)) / n)\n",
    "\n",
    "lower = prop - moe\n",
    "upper = prop + moe\n",
    "\n",
    "print(f\"96% Confidence Interval: ({lower}, {upper})\")\n",
    "\n",
    "claim = 0.10\n",
    "\n",
    "if claim < lower or claim > upper:\n",
    "    print(\"We have enough evidence at the 4% significance level\")\n",
    "else:\n",
    "    print(\"We do not have sufficient evidence at 4% significance level\")\n",
    "\n",
    "conf_85 = 0.85\n",
    "alpha_85 = 1 - conf_85\n",
    "z_85 = stats.norm.ppf(1 - alpha_85/2)\n",
    "\n",
    "moe_85 = z_85 * np.sqrt((prop * (1 - prop)) / n)\n",
    "\n",
    "lower_85 = prop - moe_85\n",
    "upper_85 = prop + moe_85\n",
    "\n",
    "print(f\"85% Confidence Interval: ({lower_85}, {upper_85})\")\n",
    "\n",
    "if claim < lower_85 or claim > upper_85:\n",
    "    print(\"We have sufficient evidence to disprove claim at the 15% significance level\")\n",
    "else:\n",
    "    print(\"We do not have sufficient evidence to disprove claim at the 15% significance level\")"
   ]
  },
  {
   "cell_type": "markdown",
   "id": "8732444a",
   "metadata": {},
   "source": [
    "# Pulling and Survey Results: Margin of Error"
   ]
  },
  {
   "cell_type": "code",
   "execution_count": 36,
   "id": "5813c0bc",
   "metadata": {},
   "outputs": [
    {
     "name": "stdout",
     "output_type": "stream",
     "text": [
      "Proportion: 45.0% | Marg err: 3.250292294548292%\n",
      "Proportion: 35.0% | Marg err: 3.116201391295356%\n",
      "Proportion: 10.0% | Marg err: 1.96%\n"
     ]
    }
   ],
   "source": [
    "def moe(p, n, z=1.96):\n",
    "    se = np.sqrt((p * (1 - p)) / n)\n",
    "    moe = z * se\n",
    "    return moe\n",
    "\n",
    "prop = [0.45, 0.35, 0.10]\n",
    "n = 900\n",
    "\n",
    "for p in prop:\n",
    "    me = moe(p, n)\n",
    "    print(f\"Proportion: {p*100}% | Marg err: {me*100}%\")"
   ]
  },
  {
   "cell_type": "markdown",
   "id": "f7613a14",
   "metadata": {},
   "source": [
    "# Confidence Intervals For Difference of Proportions"
   ]
  },
  {
   "cell_type": "code",
   "execution_count": 38,
   "id": "92b8ac06",
   "metadata": {},
   "outputs": [
    {
     "name": "stdout",
     "output_type": "stream",
     "text": [
      "DIfferences prop: 0.010000000000000009\n",
      "Standard error: 0.07646941498776769\n",
      "MArgin of error: 0.14988005337602467\n",
      "95% CI: (-0.13988005337602466, 0.15988005337602468)\n"
     ]
    }
   ],
   "source": [
    "nA = 70\n",
    "nB = 100\n",
    "xA = 42\n",
    "xB = 59\n",
    "pA = xA / nA\n",
    "pB = xB / nB\n",
    "diff = pA - pB\n",
    "\n",
    "SE = np.sqrt((pA * (1 - pA) / nA) + (pB * (1 - pB) / nB))\n",
    "z = 1.96\n",
    "\n",
    "moe = z * SE\n",
    "lower = diff - moe\n",
    "upper = diff + moe\n",
    "\n",
    "print(f\"DIfferences prop: {diff}\")\n",
    "print(f\"Standard error: {SE}\")\n",
    "print(f\"MArgin of error: {moe}\")\n",
    "print(f\"95% CI: ({lower}, {upper})\")"
   ]
  },
  {
   "cell_type": "markdown",
   "id": "93f97af2",
   "metadata": {},
   "source": [
    "# Hypothesis and Statistical Testing"
   ]
  },
  {
   "cell_type": "code",
   "execution_count": 40,
   "id": "c9a91f41",
   "metadata": {},
   "outputs": [
    {
     "name": "stdout",
     "output_type": "stream",
     "text": [
      "Sample Mean: 50.0\n",
      "Sample Variance: 400.0\n",
      "Chi-Square Lower: 0.10258658877510106\n",
      "Chi-Square Upper: 5.991464547107979\n",
      "90% Confidence Interval for Variance: (133.52328027813368, 7798.290298489476)\n",
      "90% Confidence Interval for Standard Deviation: (11.555227400537545, 88.30792885403595)\n"
     ]
    }
   ],
   "source": [
    "data = [30, 50, 70]\n",
    "\n",
    "s_size = len(data)\n",
    "s_mean = np.mean(data)\n",
    "s_variance = np.var(data, ddof=1)\n",
    "dof = s_size - 1\n",
    "alpha = 0.10\n",
    "\n",
    "chi2_05 = stats.chi2.ppf(alpha / 2, dof)\n",
    "chi2_95 = stats.chi2.ppf(1 - alpha / 2, dof)\n",
    "\n",
    "ci_lower = (dof * s_variance) / chi2_95\n",
    "ci_upper = (dof * s_variance) / chi2_05\n",
    "\n",
    "std_lower = np.sqrt(ci_lower)\n",
    "std_upper = np.sqrt(ci_upper)\n",
    "\n",
    "print(f\"Sample Mean: {s_mean}\")\n",
    "print(f\"Sample Variance: {s_variance}\")\n",
    "print(f\"Chi-Square Lower: {chi2_05}\")\n",
    "print(f\"Chi-Square Upper: {chi2_95}\")\n",
    "print(f\"90% Confidence Interval for Variance: ({ci_lower}, {ci_upper})\")\n",
    "print(f\"90% Confidence Interval for Standard Deviation: ({std_lower}, {std_upper})\")"
   ]
  },
  {
   "cell_type": "markdown",
   "id": "eee9fbf0",
   "metadata": {},
   "source": [
    "# Regression Analysis: R-Squared in Historical Population Data"
   ]
  },
  {
   "cell_type": "code",
   "execution_count": 42,
   "id": "50843cc2",
   "metadata": {},
   "outputs": [
    {
     "data": {
      "image/png": "[encoded data removed]",
      "text/plain": [
       "<Figure size 640x480 with 1 Axes>"
      ]
     },
     "metadata": {},
     "output_type": "display_data"
    },
    {
     "name": "stdout",
     "output_type": "stream",
     "text": [
      "Linear model coefficients: a0 = -2480.7019762899877, a1 = 1.3603557312260777\n",
      "R-squared for Linear Model: 0.9193285511819065\n"
     ]
    },
    {
     "data": {
      "image/png": "[encoded data removed]",
      "text/plain": [
       "<Figure size 640x480 with 1 Axes>"
      ]
     },
     "metadata": {},
     "output_type": "display_data"
    },
    {
     "name": "stdout",
     "output_type": "stream",
     "text": [
      "Quadratic model coefficients: a2 = 0.006773517907417657, a1 = -24.379012317045255, a0 = 21941.894190859086\n",
      "R-squared for Quadratic Model: 0.9991027336434126\n"
     ]
    },
    {
     "data": {
      "image/png": "[encoded data removed]",
      "text/plain": [
       "<Figure size 640x480 with 1 Axes>"
      ]
     },
     "metadata": {},
     "output_type": "display_data"
    }
   ],
   "source": [
    "# Data\n",
    "years = np.array([1790, 1800, 1810, 1820, 1830, 1840, 1850, 1860, 1870, 1880, 1890,\n",
    "                  1900, 1910, 1920, 1930, 1940, 1950, 1960, 1970, 1980, 1990, 2000,\n",
    "                  2010])\n",
    "population = np.array([3.9, 5.3, 7.2, 9.6, 12.9, 17.1, 23.2, 31.4, 38.6, 50.2, 63.0,\n",
    "                       76.2, 92.2, 106.0, 123.2, 132.2, 151.3, 179.3, 203.3, 226.5, 248.7,\n",
    "                       281.4, 308.7])\n",
    "\n",
    "df = pd.DataFrame({\n",
    "    \"year\": years,\n",
    "    \"population\": population\n",
    "})\n",
    "\n",
    "# Scatter plot\n",
    "sns.scatterplot(data=df, x=\"year\", y=\"population\")\n",
    "plt.title(\"4.1 Population growth over years\")\n",
    "plt.xlabel(\"Year\")\n",
    "plt.ylabel(\"Population\")\n",
    "plt.show()\n",
    "\n",
    "# Linear regression model\n",
    "def linear_model(x, a, b):\n",
    "    return a * x + b\n",
    "\n",
    "popt, _ = curve_fit(linear_model, years, population)\n",
    "a1, a0 = popt\n",
    "\n",
    "pred_lin_y = linear_model(years, a1, a0)\n",
    "\n",
    "# R-squared for linear model\n",
    "residual_sum = np.sum((population - pred_lin_y) ** 2)\n",
    "total_sum = np.sum((population - np.mean(population)) ** 2)\n",
    "r2_linear = 1 - (residual_sum / total_sum)\n",
    "\n",
    "print(f\"Linear model coefficients: a0 = {a0}, a1 = {a1}\")\n",
    "print(f\"R-squared for Linear Model: {r2_linear}\")\n",
    "\n",
    "sns.scatterplot(data=df, x=\"year\", y=\"population\")\n",
    "sns.lineplot(x=years, y=pred_lin_y, color=\"green\", label=\"Linear fit\")\n",
    "plt.title(\"4.2 Linear regression model\")\n",
    "plt.xlabel(\"Year\")\n",
    "plt.ylabel(\"Population\")\n",
    "plt.legend()\n",
    "plt.show()\n",
    "\n",
    "# Quadratic non-linear regression model\n",
    "def quadratic_model(x, a2, a1, a0):\n",
    "    return a2 * x ** 2 + a1 * x + a0\n",
    "\n",
    "popt, _ = curve_fit(quadratic_model, years, population)\n",
    "quad_a2, quad_a1, quad_a0 = popt\n",
    "\n",
    "pred_quad_y = quadratic_model(years, quad_a2, quad_a1, quad_a0)\n",
    "\n",
    "# R-squared for quadratic model\n",
    "residual_sum = np.sum((population - pred_quad_y) ** 2)\n",
    "total_sum = np.sum((population - np.mean(population)) ** 2)\n",
    "r2_quadratic = 1 - (residual_sum / total_sum)\n",
    "\n",
    "print(f\"Quadratic model coefficients: a2 = {quad_a2}, a1 = {quad_a1}, a0 = {quad_a0}\")\n",
    "print(f\"R-squared for Quadratic Model: {r2_quadratic}\")\n",
    "\n",
    "sns.scatterplot(data=df, x=\"year\", y=\"population\")\n",
    "sns.lineplot(x=years, y=pred_quad_y, color=\"blue\", label=\"Quadratic fit\")\n",
    "plt.title(\"4.3 Quadratic regression model\")\n",
    "plt.xlabel(\"Year\")\n",
    "plt.ylabel(\"Population\")\n",
    "plt.legend()\n",
    "plt.show()"
   ]
  },
  {
   "cell_type": "markdown",
   "id": "1c63b1ed",
   "metadata": {},
   "source": [
    "# Hypothesis Testing: Variance & Standard Deviation of a Population"
   ]
  },
  {
   "cell_type": "code",
   "execution_count": 43,
   "id": "57804870",
   "metadata": {},
   "outputs": [
    {
     "name": "stdout",
     "output_type": "stream",
     "text": [
      "Sample Mean: 50.0\n",
      "Sample Variance: 400.0\n",
      "Chi-Square Lower: 0.10258658877510106\n",
      "Chi-Square Upper: 5.991464547107979\n",
      "90% Confidence Interval for Variance: (133.52328027813368, 7798.290298489476)\n",
      "90% Confidence Interval for Standard Deviation: (11.555227400537545, 88.30792885403595)\n"
     ]
    }
   ],
   "source": [
    "data = [30, 50, 70]\n",
    "\n",
    "s_size = len(data)\n",
    "s_mean = np.mean(data)\n",
    "s_variance = np.var(data, ddof=1)\n",
    "dof = s_size - 1\n",
    "alpha = 0.10\n",
    "\n",
    "chi2_05 = stats.chi2.ppf(alpha / 2, dof)\n",
    "chi2_95 = stats.chi2.ppf(1 - alpha / 2, dof)\n",
    "\n",
    "ci_lower = (dof * s_variance) / chi2_95\n",
    "ci_upper = (dof * s_variance) / chi2_05\n",
    "\n",
    "std_lower = np.sqrt(ci_lower)\n",
    "std_upper = np.sqrt(ci_upper)\n",
    "\n",
    "print(f\"Sample Mean: {s_mean}\")\n",
    "print(f\"Sample Variance: {s_variance}\")\n",
    "print(f\"Chi-Square Lower: {chi2_05}\")\n",
    "print(f\"Chi-Square Upper: {chi2_95}\")\n",
    "print(f\"90% Confidence Interval for Variance: ({ci_lower}, {ci_upper})\")\n",
    "print(f\"90% Confidence Interval for Standard Deviation: ({std_lower}, {std_upper})\")"
   ]
  },
  {
   "cell_type": "markdown",
   "id": "5feb8c9f",
   "metadata": {},
   "source": [
    "# Hypothesis Testing: Statistical Comparison"
   ]
  },
  {
   "cell_type": "code",
   "execution_count": 44,
   "id": "9b072582",
   "metadata": {},
   "outputs": [
    {
     "name": "stdout",
     "output_type": "stream",
     "text": [
      "H0 | Null: Both mean scores are equal\n",
      "HA | Alternative: The mean scores are not equal\n",
      "Equal t-stat: 0.9306185084738471\n",
      "Equal p-val: 0.37397154416212486\n",
      "Unequal t-stat: 0.9306185084738471\n",
      "Unquel p-val: 0.3901716881005949\n",
      "Since the p-val is greater than the assumed alpha of 0.05, we reject the nulls for both tests\n"
     ]
    }
   ],
   "source": [
    "print(f\"H0 | Null: Both mean scores are equal\")\n",
    "print(f\"HA | Alternative: The mean scores are not equal\")\n",
    "data = {\n",
    "    \"quiz_one\": [85, 81],\n",
    "    \"quiz_two\": [92, 79],\n",
    "    \"quiz_three\": [97, 76],\n",
    "    \"quiz_four\": [65, 84],\n",
    "    \"quiz_five\": [75, 83],\n",
    "    \"quiz_six\": [96, 77]\n",
    "}\n",
    "df = pd.DataFrame(data, index=[\"anthony\", \"eric\"])\n",
    "\n",
    "a_scores = df.loc[\"anthony\"]\n",
    "e_scores = df.loc[\"eric\"]\n",
    "\n",
    "t_stat, p_val = stats.ttest_ind(a_scores, e_scores, equal_var=True) # equal\n",
    "not_equal_t, not_equal_p = stats.ttest_ind(a_scores, e_scores, equal_var=False) #unequal\n",
    "\n",
    "print(f\"Equal t-stat: {t_stat}\")\n",
    "print(f\"Equal p-val: {p_val}\")\n",
    "print(f\"Unequal t-stat: {not_equal_t}\")\n",
    "print(f\"Unquel p-val: {not_equal_p}\")\n",
    "print(f\"Since the p-val is greater than the assumed alpha of 0.05, we reject the nulls for both tests\")"
   ]
  },
  {
   "cell_type": "markdown",
   "id": "15ddbe5c",
   "metadata": {},
   "source": [
    "# Chi-Square Test of Independence: Categorical Data"
   ]
  },
  {
   "cell_type": "code",
   "execution_count": 46,
   "id": "02de50f6",
   "metadata": {},
   "outputs": [
    {
     "name": "stdout",
     "output_type": "stream",
     "text": [
      "Chi2: 3.1615169362400373\n",
      "Pval: 0.367386566341213\n",
      "Degree of freedom: 3\n",
      "Expected:[[19.0075188  41.57894737 67.71428571 29.69924812]\n",
      " [12.9924812  28.42105263 46.28571429 20.30075188]]\n",
      "The chi square contigency shows that there is a significant difference between groups A and B\n"
     ]
    }
   ],
   "source": [
    "data = {\n",
    "    \"not satisfied\": [21, 11],\n",
    "    \"satisfied\": [40, 30],\n",
    "    \"good quality\": [72, 42],\n",
    "    \"excellent quality\": [25, 25]\n",
    "}\n",
    "\n",
    "customer_satisfaction = pd.DataFrame(data, index=['A', 'B'])\n",
    "\n",
    "chi2, p_val, dof, e = stats.chi2_contingency(customer_satisfaction)\n",
    "print(f\"Chi2: {chi2}\")\n",
    "print(f\"Pval: {p_val}\")\n",
    "print(f\"Degree of freedom: {dof}\")\n",
    "print(f\"Expected:{e}\")\n",
    "\n",
    "print(\"The chi square contigency shows that there is a significant difference between groups A and B\")"
   ]
  },
  {
   "cell_type": "markdown",
   "id": "a912c5da",
   "metadata": {},
   "source": [
    "# Confidence Interval Estimation"
   ]
  },
  {
   "cell_type": "code",
   "execution_count": 48,
   "id": "da869e16",
   "metadata": {},
   "outputs": [
    {
     "name": "stdout",
     "output_type": "stream",
     "text": [
      "Sample mean: 46.8\n",
      "Sample std: 26.855167100578615\n",
      "t-val: 2.7764451051977987\n",
      "margin of err: 166.7254707726735\n",
      "95% ci: (-119.9254707726735, 213.5254707726735)\n"
     ]
    }
   ],
   "source": [
    "salary = [50, 90, 30, 44, 20]\n",
    "s_mean = np.mean(salary)\n",
    "s_std = np.std(salary, ddof=1)\n",
    "s_size = len(salary)\n",
    "dof = s_size - 1\n",
    "conf = 0.95\n",
    "\n",
    "t_val = stats.t.ppf((1 + conf) / 2, dof)\n",
    "moe = t_val * (s_std * np.sqrt(s_size))\n",
    "\n",
    "ci_min = s_mean - moe\n",
    "ci_max = s_mean + moe\n",
    "\n",
    "print(f\"Sample mean: {s_mean}\")\n",
    "print(f\"Sample std: {s_std}\")\n",
    "print(f\"t-val: {t_val}\")\n",
    "print(f\"margin of err: {moe}\")\n",
    "print(f\"95% ci: ({ci_min}, {ci_max})\")"
   ]
  },
  {
   "cell_type": "markdown",
   "id": "57109ae7",
   "metadata": {},
   "source": [
    "# Reliability Analysis: Mean Time Between Failures"
   ]
  },
  {
   "cell_type": "code",
   "execution_count": 50,
   "id": "b182ede8",
   "metadata": {},
   "outputs": [
    {
     "name": "stdout",
     "output_type": "stream",
     "text": [
      "MTBF estimate: 0.9463722397476341\n",
      "At 95% Confidence Interval the MTBF lower is: 0.8423005527853827 and upper is: 1.0380024812897868\n"
     ]
    }
   ],
   "source": [
    "data = [0, 1, 1, 1, 1, 1, 1, 2, 1, 0, 1, 0, 0, 3, 1, 3, 1, 1, 2, 0, 1, 0, 0, 2, 0,\n",
    "2, 0, 1, 0, 0, 1, 1, 0, 1, 2, 3, 2, 1, 1, 0, 1, 3, 3, 0, 1, 0, 0, 0, 0, 2,\n",
    "3, 1, 5, 0, 2, 1, 0, 1, 1, 0, 3, 3, 1, 1, 0, 2, 0, 2, 0, 1, 1, 1, 1, 1, 0,\n",
    "0, 1, 0, 0, 1, 0, 2, 1, 0, 0, 0, 4, 1, 1, 2, 1, 0, 1, 1, 1, 1, 0, 2, 1, 0,\n",
    "0, 1, 0, 2, 0, 3, 0, 1, 1, 0, 2, 2, 2, 2, 0, 0, 1, 0, 2, 0, 1, 2, 2, 4, 1,\n",
    "0, 3, 1, 0, 0, 2, 1, 1, 1, 0, 2, 0, 2, 2, 1, 0, 1, 2, 3, 1, 0, 1, 0, 1, 1,\n",
    "1, 1, 0, 3, 0, 3, 0, 0, 0, 4, 1, 0, 1, 1, 1, 2, 1, 2, 0, 0, 0, 2, 3, 0, 2,\n",
    "1, 0, 0, 0, 1, 2, 0, 1, 2, 1, 1, 1, 0, 1, 0, 1, 0, 1, 0, 0, 1, 0, 0, 1, 1,\n",
    "0, 0, 0, 2, 2, 2, 0, 1, 3, 0, 1, 3, 1, 1, 3, 2, 0, 2, 1, 1, 3, 0, 1, 1, 1,\n",
    "2, 2, 2, 1, 1, 2, 1, 1, 1, 0, 0, 1, 0, 2, 0, 0, 1, 1, 0, 1, 0, 1, 0, 3, 4,\n",
    "2, 0, 2, 0, 2, 1, 1, 1, 1, 1, 2, 0, 3, 1, 1, 2, 0, 0, 0, 0, 0, 1, 0, 2, 0,\n",
    "2, 2, 1, 2, 4, 0, 3, 1, 3, 2, 1, 2, 1, 2, 1, 0, 0, 0, 3, 1, 1, 0, 2, 1, 1]\n",
    "\n",
    "mean_failures = np.mean(data)\n",
    "mtbf_failures = 1 / mean_failures\n",
    "print(f\"MTBF estimate: {mtbf_failures}\")\n",
    "\n",
    "s_size = len(data)\n",
    "alpha = 0.05\n",
    "\n",
    "c_lower = stats.chi2.ppf(alpha / 2, 2 * s_size)\n",
    "c_upper = stats.chi2.ppf(1 - alpha, 2 * s_size)\n",
    "\n",
    "l_lower = 2 * s_size * mean_failures / c_upper\n",
    "l_upper = 2 * s_size * mean_failures / c_lower\n",
    "\n",
    "m_lower = 1 / l_upper\n",
    "m_upper = 1 / l_lower\n",
    "\n",
    "print(f\"At 95% Confidence Interval the MTBF lower is: {m_lower} and upper is: {m_upper}\")"
   ]
  },
  {
   "cell_type": "markdown",
   "id": "ef698f43",
   "metadata": {},
   "source": [
    "### Note: This is not all of the concepts that we have worked on but some some of the most important topics"
   ]
  }
 ],
 "metadata": {
  "kernelspec": {
   "display_name": "Python 3 (ipykernel)",
   "language": "python",
   "name": "python3"
  },
  "language_info": {
   "codemirror_mode": {
    "name": "ipython",
    "version": 3
   },
   "file_extension": ".py",
   "mimetype": "text/x-python",
   "name": "python",
   "nbconvert_exporter": "python",
   "pygments_lexer": "ipython3",
   "version": "3.11.4"
  }
 },
 "nbformat": 4,
 "nbformat_minor": 5
}
